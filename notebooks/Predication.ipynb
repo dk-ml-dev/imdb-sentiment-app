{
  "nbformat": 4,
  "nbformat_minor": 0,
  "metadata": {
    "colab": {
      "provenance": []
    },
    "kernelspec": {
      "name": "python3",
      "display_name": "Python 3"
    },
    "language_info": {
      "name": "python"
    }
  },
  "cells": [
    {
      "cell_type": "code",
      "execution_count": 9,
      "metadata": {
        "id": "bVso0F45kOnO"
      },
      "outputs": [],
      "source": [
        "import numpy as np\n",
        "import tensorflow as tf\n",
        "from tensorflow.keras.models import Sequential, load_model\n",
        "from tensorflow.keras.layers import Dense, Dropout, Activation, Flatten, Conv2D, MaxPooling2D\n",
        "from tensorflow.keras.datasets import imdb"
      ]
    },
    {
      "cell_type": "code",
      "source": [
        "word_index = imdb.get_word_index()\n",
        "reverse_word_index={\n",
        "    value:key\n",
        "    for (key,value) in word_index.items()\n",
        "}\n"
      ],
      "metadata": {
        "id": "nn20NVLjk08a"
      },
      "execution_count": 5,
      "outputs": []
    },
    {
      "cell_type": "code",
      "source": [
        "model=load_model(\"/content/simple_rnn_imdb.h5\")"
      ],
      "metadata": {
        "colab": {
          "base_uri": "https://localhost:8080/"
        },
        "id": "ZmfvQ1hslYRx",
        "outputId": "086ea0b2-68b1-42cf-9594-8faf4a99e9cb"
      },
      "execution_count": 15,
      "outputs": [
        {
          "output_type": "stream",
          "name": "stderr",
          "text": [
            "WARNING:absl:Compiled the loaded model, but the compiled metrics have yet to be built. `model.compile_metrics` will be empty until you train or evaluate the model.\n"
          ]
        }
      ]
    },
    {
      "cell_type": "code",
      "source": [
        "model.summary()"
      ],
      "metadata": {
        "colab": {
          "base_uri": "https://localhost:8080/",
          "height": 241
        },
        "id": "mFqe6chDlaga",
        "outputId": "05e3b4d6-5af9-42dd-fa4e-f5c3c3a88847"
      },
      "execution_count": 17,
      "outputs": [
        {
          "output_type": "display_data",
          "data": {
            "text/plain": [
              "\u001b[1mModel: \"sequential_3\"\u001b[0m\n"
            ],
            "text/html": [
              "<pre style=\"white-space:pre;overflow-x:auto;line-height:normal;font-family:Menlo,'DejaVu Sans Mono',consolas,'Courier New',monospace\"><span style=\"font-weight: bold\">Model: \"sequential_3\"</span>\n",
              "</pre>\n"
            ]
          },
          "metadata": {}
        },
        {
          "output_type": "display_data",
          "data": {
            "text/plain": [
              "┏━━━━━━━━━━━━━━━━━━━━━━━━━━━━━━━━━┳━━━━━━━━━━━━━━━━━━━━━━━━┳━━━━━━━━━━━━━━━┓\n",
              "┃\u001b[1m \u001b[0m\u001b[1mLayer (type)                   \u001b[0m\u001b[1m \u001b[0m┃\u001b[1m \u001b[0m\u001b[1mOutput Shape          \u001b[0m\u001b[1m \u001b[0m┃\u001b[1m \u001b[0m\u001b[1m      Param #\u001b[0m\u001b[1m \u001b[0m┃\n",
              "┡━━━━━━━━━━━━━━━━━━━━━━━━━━━━━━━━━╇━━━━━━━━━━━━━━━━━━━━━━━━╇━━━━━━━━━━━━━━━┩\n",
              "│ embedding_3 (\u001b[38;5;33mEmbedding\u001b[0m)         │ (\u001b[38;5;45mNone\u001b[0m, \u001b[38;5;34m500\u001b[0m, \u001b[38;5;34m128\u001b[0m)       │     \u001b[38;5;34m1,280,000\u001b[0m │\n",
              "├─────────────────────────────────┼────────────────────────┼───────────────┤\n",
              "│ simple_rnn_2 (\u001b[38;5;33mSimpleRNN\u001b[0m)        │ (\u001b[38;5;45mNone\u001b[0m, \u001b[38;5;34m128\u001b[0m)            │        \u001b[38;5;34m32,896\u001b[0m │\n",
              "├─────────────────────────────────┼────────────────────────┼───────────────┤\n",
              "│ dense_2 (\u001b[38;5;33mDense\u001b[0m)                 │ (\u001b[38;5;45mNone\u001b[0m, \u001b[38;5;34m1\u001b[0m)              │           \u001b[38;5;34m129\u001b[0m │\n",
              "└─────────────────────────────────┴────────────────────────┴───────────────┘\n"
            ],
            "text/html": [
              "<pre style=\"white-space:pre;overflow-x:auto;line-height:normal;font-family:Menlo,'DejaVu Sans Mono',consolas,'Courier New',monospace\">┏━━━━━━━━━━━━━━━━━━━━━━━━━━━━━━━━━┳━━━━━━━━━━━━━━━━━━━━━━━━┳━━━━━━━━━━━━━━━┓\n",
              "┃<span style=\"font-weight: bold\"> Layer (type)                    </span>┃<span style=\"font-weight: bold\"> Output Shape           </span>┃<span style=\"font-weight: bold\">       Param # </span>┃\n",
              "┡━━━━━━━━━━━━━━━━━━━━━━━━━━━━━━━━━╇━━━━━━━━━━━━━━━━━━━━━━━━╇━━━━━━━━━━━━━━━┩\n",
              "│ embedding_3 (<span style=\"color: #0087ff; text-decoration-color: #0087ff\">Embedding</span>)         │ (<span style=\"color: #00d7ff; text-decoration-color: #00d7ff\">None</span>, <span style=\"color: #00af00; text-decoration-color: #00af00\">500</span>, <span style=\"color: #00af00; text-decoration-color: #00af00\">128</span>)       │     <span style=\"color: #00af00; text-decoration-color: #00af00\">1,280,000</span> │\n",
              "├─────────────────────────────────┼────────────────────────┼───────────────┤\n",
              "│ simple_rnn_2 (<span style=\"color: #0087ff; text-decoration-color: #0087ff\">SimpleRNN</span>)        │ (<span style=\"color: #00d7ff; text-decoration-color: #00d7ff\">None</span>, <span style=\"color: #00af00; text-decoration-color: #00af00\">128</span>)            │        <span style=\"color: #00af00; text-decoration-color: #00af00\">32,896</span> │\n",
              "├─────────────────────────────────┼────────────────────────┼───────────────┤\n",
              "│ dense_2 (<span style=\"color: #0087ff; text-decoration-color: #0087ff\">Dense</span>)                 │ (<span style=\"color: #00d7ff; text-decoration-color: #00d7ff\">None</span>, <span style=\"color: #00af00; text-decoration-color: #00af00\">1</span>)              │           <span style=\"color: #00af00; text-decoration-color: #00af00\">129</span> │\n",
              "└─────────────────────────────────┴────────────────────────┴───────────────┘\n",
              "</pre>\n"
            ]
          },
          "metadata": {}
        },
        {
          "output_type": "display_data",
          "data": {
            "text/plain": [
              "\u001b[1m Total params: \u001b[0m\u001b[38;5;34m1,313,027\u001b[0m (5.01 MB)\n"
            ],
            "text/html": [
              "<pre style=\"white-space:pre;overflow-x:auto;line-height:normal;font-family:Menlo,'DejaVu Sans Mono',consolas,'Courier New',monospace\"><span style=\"font-weight: bold\"> Total params: </span><span style=\"color: #00af00; text-decoration-color: #00af00\">1,313,027</span> (5.01 MB)\n",
              "</pre>\n"
            ]
          },
          "metadata": {}
        },
        {
          "output_type": "display_data",
          "data": {
            "text/plain": [
              "\u001b[1m Trainable params: \u001b[0m\u001b[38;5;34m1,313,025\u001b[0m (5.01 MB)\n"
            ],
            "text/html": [
              "<pre style=\"white-space:pre;overflow-x:auto;line-height:normal;font-family:Menlo,'DejaVu Sans Mono',consolas,'Courier New',monospace\"><span style=\"font-weight: bold\"> Trainable params: </span><span style=\"color: #00af00; text-decoration-color: #00af00\">1,313,025</span> (5.01 MB)\n",
              "</pre>\n"
            ]
          },
          "metadata": {}
        },
        {
          "output_type": "display_data",
          "data": {
            "text/plain": [
              "\u001b[1m Non-trainable params: \u001b[0m\u001b[38;5;34m0\u001b[0m (0.00 B)\n"
            ],
            "text/html": [
              "<pre style=\"white-space:pre;overflow-x:auto;line-height:normal;font-family:Menlo,'DejaVu Sans Mono',consolas,'Courier New',monospace\"><span style=\"font-weight: bold\"> Non-trainable params: </span><span style=\"color: #00af00; text-decoration-color: #00af00\">0</span> (0.00 B)\n",
              "</pre>\n"
            ]
          },
          "metadata": {}
        },
        {
          "output_type": "display_data",
          "data": {
            "text/plain": [
              "\u001b[1m Optimizer params: \u001b[0m\u001b[38;5;34m2\u001b[0m (12.00 B)\n"
            ],
            "text/html": [
              "<pre style=\"white-space:pre;overflow-x:auto;line-height:normal;font-family:Menlo,'DejaVu Sans Mono',consolas,'Courier New',monospace\"><span style=\"font-weight: bold\"> Optimizer params: </span><span style=\"color: #00af00; text-decoration-color: #00af00\">2</span> (12.00 B)\n",
              "</pre>\n"
            ]
          },
          "metadata": {}
        }
      ]
    },
    {
      "cell_type": "code",
      "source": [
        "model.get_weights()"
      ],
      "metadata": {
        "colab": {
          "base_uri": "https://localhost:8080/"
        },
        "id": "F7KKBQhenqn2",
        "outputId": "52db8cce-ba3e-4f57-c3bb-5870cadd4b1d"
      },
      "execution_count": 18,
      "outputs": [
        {
          "output_type": "execute_result",
          "data": {
            "text/plain": [
              "[array([[-9.0483302e-01,  7.7529049e-01, -9.0034664e-01, ...,\n",
              "         -9.9498630e-01, -9.5263183e-01,  1.7999344e+00],\n",
              "        [-7.2330475e-02,  9.4357491e-02,  2.7254480e-03, ...,\n",
              "         -2.6335623e-02, -2.3638412e-02,  7.5317070e-02],\n",
              "        [-6.9247365e-02,  2.1605145e-02,  2.0566125e-01, ...,\n",
              "         -1.3596082e-01,  4.5442022e-02,  1.3258532e-01],\n",
              "        ...,\n",
              "        [-4.6712734e-02,  2.8241375e-02, -4.0399738e-02, ...,\n",
              "         -3.9798621e-02, -2.6023585e-02,  1.3971114e-02],\n",
              "        [ 3.1828675e-02, -3.5836209e-02, -3.4514736e-04, ...,\n",
              "         -4.7235243e-02,  2.0205658e-02,  5.0004229e-02],\n",
              "        [-5.4914281e-02, -7.5612538e-02,  4.5055773e-02, ...,\n",
              "          4.9980931e-02,  4.8508141e-02, -1.0334514e-01]], dtype=float32),\n",
              " array([[ 0.14677444,  0.17217292, -0.09586718, ...,  0.04549925,\n",
              "          0.10049951, -0.05601164],\n",
              "        [-0.13706973, -0.02595139,  0.011559  , ...,  0.14919731,\n",
              "         -0.10134498,  0.121145  ],\n",
              "        [-0.08723662, -0.07017231,  0.04545449, ..., -0.00838194,\n",
              "         -0.01831605, -0.06488699],\n",
              "        ...,\n",
              "        [ 0.05851647, -0.01925885,  0.16949639, ..., -0.13219267,\n",
              "          0.22994502,  0.04857593],\n",
              "        [-0.16810867,  0.01549563,  0.09092388, ...,  0.11988633,\n",
              "         -0.06400514, -0.13737674],\n",
              "        [ 0.14744744, -0.01071807, -0.07985256, ..., -0.02501261,\n",
              "         -0.06083282,  0.0431927 ]], dtype=float32),\n",
              " array([[ 0.10915215, -0.07107998, -0.05563248, ...,  0.04447538,\n",
              "          0.01477831, -0.02987967],\n",
              "        [ 0.07236325,  0.02500154,  0.04927264, ...,  0.02824229,\n",
              "         -0.0025112 , -0.0225988 ],\n",
              "        [ 0.05087769, -0.04690846,  0.07881039, ...,  0.06581143,\n",
              "         -0.0883569 , -0.08481235],\n",
              "        ...,\n",
              "        [ 0.0004564 , -0.00704503, -0.04267182, ...,  0.04186613,\n",
              "         -0.09124578, -0.00942907],\n",
              "        [-0.03536804,  0.10023478, -0.159284  , ..., -0.06456321,\n",
              "         -0.12381943,  0.01089555],\n",
              "        [-0.03936068,  0.01606101, -0.05410615, ...,  0.10729372,\n",
              "          0.09845954,  0.05199659]], dtype=float32),\n",
              " array([ 1.16514256e-02, -1.72895975e-02, -1.62311476e-02, -2.63477000e-03,\n",
              "         1.20069254e-02,  4.66757528e-02, -2.64764577e-02, -3.46435048e-02,\n",
              "        -1.53810680e-02, -2.92852074e-02, -2.52462663e-02,  3.85476686e-02,\n",
              "         2.44528241e-02,  2.72316411e-02, -3.14713866e-02, -3.46030407e-02,\n",
              "        -3.06452834e-03, -5.52101023e-02, -3.23620252e-02, -1.70365088e-02,\n",
              "        -1.12289824e-02,  3.20546553e-02, -1.06839580e-03,  3.36773470e-02,\n",
              "        -3.11247865e-03, -4.35888171e-02, -2.84145400e-02,  2.85007176e-03,\n",
              "        -1.77037790e-02, -2.07214989e-02, -6.30706245e-06,  3.24466528e-05,\n",
              "         1.50652193e-02, -1.83615182e-02,  1.40084997e-02,  6.97425799e-03,\n",
              "         1.73655450e-02,  1.33375116e-02,  3.25207994e-03, -3.52463238e-02,\n",
              "        -1.81583241e-02,  4.26944718e-02, -3.83376935e-03, -5.53330174e-03,\n",
              "         1.84660852e-02, -1.86914913e-02, -1.55609278e-02,  2.20368966e-03,\n",
              "        -6.83000451e-03, -1.77366827e-02, -1.62464343e-02,  1.78291947e-02,\n",
              "        -2.86447853e-02, -3.36855650e-02, -2.68339161e-02,  2.86255851e-02,\n",
              "         2.05472554e-03, -1.36219012e-02,  1.51180215e-02, -3.21985595e-02,\n",
              "         2.79155169e-02,  6.42661750e-02,  1.37462262e-02, -1.86097268e-02,\n",
              "         2.76789665e-02, -2.65025795e-02,  1.26294531e-02,  1.82365682e-02,\n",
              "         2.18595229e-02,  2.94259507e-02, -1.00904666e-02, -2.21013743e-03,\n",
              "         1.57687217e-02,  2.27519497e-02, -2.48987810e-03,  3.13031301e-02,\n",
              "        -2.31836289e-02,  1.77820176e-02, -9.21782572e-03,  3.94913852e-02,\n",
              "         3.62646859e-03, -1.90246236e-02, -5.79520222e-03, -4.42141555e-02,\n",
              "         1.09844292e-02,  1.94125976e-02, -3.31333233e-03,  3.79261523e-02,\n",
              "        -1.74219497e-02,  1.98310409e-02, -1.47867193e-02, -1.09695150e-02,\n",
              "        -1.68878473e-02,  8.28097668e-03, -4.29727416e-03, -9.79774352e-03,\n",
              "        -1.01538608e-02, -2.61287298e-02, -1.14523359e-02, -2.20364612e-02,\n",
              "        -1.04631158e-02, -3.80135737e-02,  2.53244657e-02, -6.28308859e-03,\n",
              "         2.80470662e-02, -5.05151674e-02, -2.22247969e-02, -1.49880815e-02,\n",
              "         3.82718770e-03, -1.89114157e-02,  6.74671587e-03, -2.49204487e-02,\n",
              "         5.83797228e-03, -2.01925007e-03, -3.24878246e-02,  1.08070187e-02,\n",
              "        -4.80938777e-02,  1.31071471e-02, -2.65112463e-02, -2.12193839e-02,\n",
              "        -4.12151217e-02, -1.27103701e-02,  9.01323045e-04, -1.96927190e-02,\n",
              "        -2.54263151e-02,  1.89643819e-02,  2.44830530e-02, -3.36456373e-02],\n",
              "       dtype=float32),\n",
              " array([[ 0.10306746],\n",
              "        [ 0.01379593],\n",
              "        [ 0.24000497],\n",
              "        [ 0.05676902],\n",
              "        [ 0.10401294],\n",
              "        [ 0.15168521],\n",
              "        [-0.19621237],\n",
              "        [-0.20834771],\n",
              "        [-0.18713413],\n",
              "        [-0.18626948],\n",
              "        [ 0.17127807],\n",
              "        [ 0.20715535],\n",
              "        [-0.0440922 ],\n",
              "        [ 0.1087341 ],\n",
              "        [-0.01649546],\n",
              "        [-0.17845693],\n",
              "        [-0.06805188],\n",
              "        [-0.03279858],\n",
              "        [-0.16430975],\n",
              "        [ 0.07420637],\n",
              "        [ 0.46756518],\n",
              "        [ 0.04891353],\n",
              "        [-0.00930003],\n",
              "        [-0.20610377],\n",
              "        [-0.22617063],\n",
              "        [ 0.05763869],\n",
              "        [ 0.24398977],\n",
              "        [ 0.12228089],\n",
              "        [-0.19108716],\n",
              "        [ 0.18772894],\n",
              "        [-0.07871389],\n",
              "        [ 0.16928981],\n",
              "        [-0.20741744],\n",
              "        [ 0.09883377],\n",
              "        [ 0.06412154],\n",
              "        [-0.14216772],\n",
              "        [-0.27035478],\n",
              "        [-0.34179765],\n",
              "        [ 0.04340801],\n",
              "        [-0.1634029 ],\n",
              "        [ 0.04586633],\n",
              "        [-0.3016246 ],\n",
              "        [-0.04510456],\n",
              "        [-0.03771219],\n",
              "        [-0.24802013],\n",
              "        [ 0.1486277 ],\n",
              "        [-0.1733112 ],\n",
              "        [ 0.05674462],\n",
              "        [-0.00295512],\n",
              "        [ 0.356313  ],\n",
              "        [-0.16232637],\n",
              "        [ 0.14562297],\n",
              "        [ 0.06030734],\n",
              "        [-0.15925606],\n",
              "        [-0.18730028],\n",
              "        [-0.24785908],\n",
              "        [ 0.05550971],\n",
              "        [ 0.11296349],\n",
              "        [ 0.25735465],\n",
              "        [-0.0921324 ],\n",
              "        [ 0.10848802],\n",
              "        [-0.09593092],\n",
              "        [-0.11413812],\n",
              "        [ 0.3850729 ],\n",
              "        [-0.27913067],\n",
              "        [-0.13611467],\n",
              "        [ 0.09029222],\n",
              "        [-0.35733804],\n",
              "        [ 0.04716538],\n",
              "        [-0.1965551 ],\n",
              "        [ 0.10547778],\n",
              "        [-0.11598983],\n",
              "        [ 0.10680142],\n",
              "        [ 0.12964398],\n",
              "        [-0.18915026],\n",
              "        [ 0.15517794],\n",
              "        [ 0.23564291],\n",
              "        [ 0.01564459],\n",
              "        [ 0.11477413],\n",
              "        [-0.2910912 ],\n",
              "        [-0.02721656],\n",
              "        [-0.06523838],\n",
              "        [ 0.06810328],\n",
              "        [-0.01402866],\n",
              "        [ 0.20615594],\n",
              "        [ 0.11233538],\n",
              "        [ 0.16925554],\n",
              "        [ 0.2023744 ],\n",
              "        [ 0.15239163],\n",
              "        [ 0.18978865],\n",
              "        [-0.18669459],\n",
              "        [-0.04012817],\n",
              "        [ 0.04755545],\n",
              "        [-0.1456532 ],\n",
              "        [-0.31860676],\n",
              "        [ 0.11027164],\n",
              "        [ 0.55315125],\n",
              "        [-0.01724434],\n",
              "        [-0.01214511],\n",
              "        [ 0.11160714],\n",
              "        [ 0.08889285],\n",
              "        [-0.13544172],\n",
              "        [-0.14494285],\n",
              "        [ 0.2394333 ],\n",
              "        [ 0.18217051],\n",
              "        [ 0.14198768],\n",
              "        [-0.09388294],\n",
              "        [-0.16421705],\n",
              "        [-0.3147314 ],\n",
              "        [ 0.13807933],\n",
              "        [-0.10207949],\n",
              "        [-0.05946912],\n",
              "        [-0.12689312],\n",
              "        [-0.08323149],\n",
              "        [-0.16290586],\n",
              "        [ 0.17988032],\n",
              "        [ 0.12365916],\n",
              "        [-0.32937706],\n",
              "        [ 0.25617892],\n",
              "        [-0.10874516],\n",
              "        [-0.14749518],\n",
              "        [ 0.0521181 ],\n",
              "        [ 0.11862276],\n",
              "        [ 0.34011632],\n",
              "        [ 0.02535502],\n",
              "        [-0.10279705],\n",
              "        [ 0.11882148],\n",
              "        [-0.21919693]], dtype=float32),\n",
              " array([-0.29307646], dtype=float32)]"
            ]
          },
          "metadata": {},
          "execution_count": 18
        }
      ]
    },
    {
      "cell_type": "code",
      "source": [
        "import tensorflow.keras.preprocessing.sequence as sequence\n",
        "\n",
        "## function to decode the review\n",
        "def decode_review(text):\n",
        "    return \" \".join([reverse_word_index.get(i,\"?\") for i in text])\n",
        "\n",
        "## function to preprocesse the user inputs\n",
        "def preprocess_text(text):\n",
        "  words=text.lower().split()\n",
        "  encoded_review=[word_index.get(word,2) + 3 for word in words]\n",
        "  padded_review=sequence.pad_sequences([encoded_review],maxlen=500)\n",
        "  return padded_review"
      ],
      "metadata": {
        "id": "fwwBm5PPn-pJ"
      },
      "execution_count": 25,
      "outputs": []
    },
    {
      "cell_type": "code",
      "source": [
        "## prediction funnction\n",
        "def prediction_sentiment(review):\n",
        "  preprocessed_input=preprocess_text(review)\n",
        "  predication= model.predict(preprocessed_input)\n",
        "  sentiment='Positive ' if predication[0][0] > 0.5 else 'Negative'\n",
        "  return sentiment,predication[0][0]"
      ],
      "metadata": {
        "id": "gCa94doEpBaf"
      },
      "execution_count": 26,
      "outputs": []
    },
    {
      "cell_type": "code",
      "source": [
        "## step-4 user inputs and prediction\n",
        "# example review for prediction\n",
        "example_review=\"This movie was fantastic! I really loved every bit of it.\"\n",
        "sentiment,score=prediction_sentiment(example_review)\n",
        "print(f\"Review: {example_review}\")\n",
        "print(f\"Sentiment: {sentiment}\")\n",
        "print(f\"Score: {score}\")"
      ],
      "metadata": {
        "colab": {
          "base_uri": "https://localhost:8080/"
        },
        "id": "lI6iRlatqE4M",
        "outputId": "7f266b96-508f-4961-c675-7746665cb2b9"
      },
      "execution_count": 27,
      "outputs": [
        {
          "output_type": "stream",
          "name": "stdout",
          "text": [
            "\u001b[1m1/1\u001b[0m \u001b[32m━━━━━━━━━━━━━━━━━━━━\u001b[0m\u001b[37m\u001b[0m \u001b[1m0s\u001b[0m 253ms/step\n",
            "Review: This movie was fantastic! I really loved every bit of it.\n",
            "Sentiment: Positive \n",
            "Score: 0.8381660580635071\n"
          ]
        }
      ]
    },
    {
      "cell_type": "code",
      "source": [],
      "metadata": {
        "id": "Nj2RxA3Dq7md"
      },
      "execution_count": null,
      "outputs": []
    }
  ]
}